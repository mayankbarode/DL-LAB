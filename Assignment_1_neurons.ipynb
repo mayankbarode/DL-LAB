{
  "nbformat": 4,
  "nbformat_minor": 0,
  "metadata": {
    "colab": {
      "name": "Assignment 1- neurons.ipynb",
      "provenance": [],
      "collapsed_sections": []
    },
    "kernelspec": {
      "name": "python3",
      "display_name": "Python 3"
    },
    "language_info": {
      "name": "python"
    }
  },
  "cells": [
    {
      "cell_type": "code",
      "execution_count": null,
      "metadata": {
        "colab": {
          "base_uri": "https://localhost:8080/"
        },
        "id": "4uH863ljVzlr",
        "outputId": "25c5c7bd-722b-4509-fba3-0b756a9725d6"
      },
      "outputs": [
        {
          "output_type": "stream",
          "name": "stdout",
          "text": [
            "Enter the number of input: 2\n",
            "X: 1\n",
            "X: 4\n",
            "Enter threshold value: 6\n",
            "0\n"
          ]
        }
      ],
      "source": [
        "#implement MP neuron\n",
        "x = []\n",
        "sum = 0\n",
        "\n",
        "n = int(input(\"Enter the number of input: \"))\n",
        "\n",
        "for i in range(0, n):\n",
        "  x.append(int(input(\"X: \")))\n",
        "\n",
        "thres = int(input(\"Enter threshold value: \"))\n",
        "\n",
        "for i in range(0, n):\n",
        "  sum += x[i]\n",
        "\n",
        "if sum >= thres:\n",
        "  print(\"1\")\n",
        "else:\n",
        "  print(\"0\")"
      ]
    },
    {
      "cell_type": "code",
      "source": [
        "#implement perecptron\n",
        "x = []\n",
        "sum = 0\n",
        "w = []\n",
        "\n",
        "n = int(input(\"Enter the number of input: \"))\n",
        "\n",
        "for i in range(0, n):\n",
        "  x.append(int(input(\"X: \")))\n",
        "\n",
        "print(\"Input weight: \")\n",
        "for i in range(0, n):\n",
        "  w.append(int(input(\"W: \")))\n",
        "\n",
        "thres = int(input(\"Enter threshold value: \"))\n",
        "\n",
        "for i in range(0, n):\n",
        "  sum += (x[i]*w[i])\n",
        "\n",
        "if sum >= thres:\n",
        "  print(\"1\")\n",
        "else:\n",
        "  print(\"0\")"
      ],
      "metadata": {
        "colab": {
          "base_uri": "https://localhost:8080/"
        },
        "id": "MXBmoBvvXKoB",
        "outputId": "166ad000-3140-4d34-bc1f-141a1fc1a0fa"
      },
      "execution_count": null,
      "outputs": [
        {
          "output_type": "stream",
          "name": "stdout",
          "text": [
            "Enter the number of input: 3\n",
            "X: 1\n",
            "X: 3\n",
            "X: 2\n",
            "Input weight: \n",
            "W: 3\n",
            "W: 5\n",
            "W: 2\n",
            "Enter threshold value: 44\n",
            "0\n"
          ]
        }
      ]
    },
    {
      "cell_type": "code",
      "source": [
        "#implement sigmoid neuron\n",
        "x = []\n",
        "sum = 0\n",
        "w = []\n",
        "\n",
        "n = int(input(\"Enter the number of input: \"))\n",
        "\n",
        "for i in range(0, n):\n",
        "  x.append(int(input(\"X: \")))\n",
        "\n",
        "print(\"Input weight: \")\n",
        "for i in range(0, n):\n",
        "  w.append(int(input(\"W: \")))\n",
        "\n",
        "bias = float(input(\"Enter bias value: \"))\n",
        "\n",
        "for i in range(0, n):\n",
        "  sum += (x[i]*w[i])\n",
        "\n",
        "exp = 1/(1+ 2.71**(-(sum +bias)))\n",
        "\n",
        "print(\"{:.2f}\".format(exp))"
      ],
      "metadata": {
        "colab": {
          "base_uri": "https://localhost:8080/"
        },
        "id": "1hD6lD93ZxPd",
        "outputId": "b46f25e7-829d-4a5b-aa37-d15bbf1ae35f"
      },
      "execution_count": 1,
      "outputs": [
        {
          "output_type": "stream",
          "name": "stdout",
          "text": [
            "Enter the number of input: 2\n",
            "X: 1\n",
            "X: 2\n",
            "Input weight: \n",
            "W: 1\n",
            "W: 1\n",
            "Enter threshold value: 0.004\n",
            "Enter bias value: 1\n",
            "0.018203064530656867\n"
          ]
        }
      ]
    },
    {
      "cell_type": "code",
      "source": [
        ""
      ],
      "metadata": {
        "id": "ZlYjlP2nDYPN"
      },
      "execution_count": null,
      "outputs": []
    }
  ]
}