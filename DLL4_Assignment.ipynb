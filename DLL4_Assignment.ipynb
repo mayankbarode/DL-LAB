{
  "nbformat": 4,
  "nbformat_minor": 0,
  "metadata": {
    "colab": {
      "provenance": [],
      "collapsed_sections": []
    },
    "kernelspec": {
      "name": "python3",
      "display_name": "Python 3"
    },
    "language_info": {
      "name": "python"
    }
  },
  "cells": [
    {
      "cell_type": "markdown",
      "source": [
        "Importing Libraries:"
      ],
      "metadata": {
        "id": "Jz0Airo3va_Q"
      }
    },
    {
      "cell_type": "code",
      "execution_count": null,
      "metadata": {
        "id": "wwdYNksFvQPh"
      },
      "outputs": [],
      "source": [
        "import numpy as np\n",
        "import pandas as pd\n",
        "import tensorflow as tf\n",
        "from sklearn.model_selection import train_test_split\n",
        "from sklearn.preprocessing import StandardScaler\n",
        "from tensorflow.keras import models,datasets,layers\n",
        "import matplotlib.pyplot as plt"
      ]
    },
    {
      "cell_type": "markdown",
      "source": [
        "Reading data:"
      ],
      "metadata": {
        "id": "r_ny8cUBvxqg"
      }
    },
    {
      "cell_type": "code",
      "source": [
        "df = pd.read_csv(\"/diabetes.csv\")"
      ],
      "metadata": {
        "id": "bIHJSiAEvzvY"
      },
      "execution_count": null,
      "outputs": []
    },
    {
      "cell_type": "code",
      "source": [
        "x = df.iloc[:,:8]\n",
        "y = df[\"Outcome\"]"
      ],
      "metadata": {
        "id": "xVMpQGnvzM7H"
      },
      "execution_count": null,
      "outputs": []
    },
    {
      "cell_type": "code",
      "source": [
        "x_std = StandardScaler().fit_transform(x)"
      ],
      "metadata": {
        "id": "89KJfWd7zVug"
      },
      "execution_count": null,
      "outputs": []
    },
    {
      "cell_type": "code",
      "source": [
        "x_train,x_test,y_train,y_test = train_test_split(x_std,y,test_size = 0.1)"
      ],
      "metadata": {
        "id": "vfIepGYczhbA"
      },
      "execution_count": null,
      "outputs": []
    },
    {
      "cell_type": "markdown",
      "source": [
        "Using Adam optimizer to create a model:"
      ],
      "metadata": {
        "id": "qu-jOJYSzoP6"
      }
    },
    {
      "cell_type": "code",
      "source": [
        "adam_model = models.Sequential()\n",
        "# First hidden layer: \n",
        "adam_model.add(layers.Dense(100,activation=\"relu\"))\n",
        "# Second hidden layer: \n",
        "adam_model.add(layers.Dense(50,activation=\"relu\"))\n",
        "# Third hidden layer: \n",
        "adam_model.add(layers.Dense(25,activation=\"relu\"))\n",
        "# Fourth hidden layer: \n",
        "adam_model.add(layers.Dense(12,activation=\"relu\"))\n",
        "# Fifth hidden layer: \n",
        "adam_model.add(layers.Dense(6,activation=\"relu\"))\n",
        "# Output layer:\n",
        "adam_model.add(layers.Dense(1,activation=\"sigmoid\"))"
      ],
      "metadata": {
        "id": "P8qHwIfjzmrx"
      },
      "execution_count": null,
      "outputs": []
    },
    {
      "cell_type": "markdown",
      "source": [
        "Model Compilation:"
      ],
      "metadata": {
        "id": "1szpYuwz1vsC"
      }
    },
    {
      "cell_type": "code",
      "source": [
        "# optimizer = adam\n",
        "# binary_crossentropy function used to compute the cross-entropy loss between true labels and predicted labels\n",
        "adam_model.compile(optimizer=\"adam\",loss=\"binary_crossentropy\",metrics=[\"accuracy\"])"
      ],
      "metadata": {
        "id": "0NlJciVy0ViF"
      },
      "execution_count": null,
      "outputs": []
    },
    {
      "cell_type": "code",
      "source": [
        "history = adam_model.fit(x_train,y_train,epochs=50,validation_data=(x_test,y_test))"
      ],
      "metadata": {
        "colab": {
          "base_uri": "https://localhost:8080/"
        },
        "id": "XIGnZ-4r2m_x",
        "outputId": "14b816cf-5210-48f1-bcc4-0f92eb401ea1"
      },
      "execution_count": null,
      "outputs": [
        {
          "output_type": "stream",
          "name": "stdout",
          "text": [
            "Epoch 1/50\n",
            "22/22 [==============================] - 1s 12ms/step - loss: 0.6795 - accuracy: 0.5977 - val_loss: 0.6363 - val_accuracy: 0.7662\n",
            "Epoch 2/50\n",
            "22/22 [==============================] - 0s 4ms/step - loss: 0.5987 - accuracy: 0.7554 - val_loss: 0.5347 - val_accuracy: 0.7792\n",
            "Epoch 3/50\n",
            "22/22 [==============================] - 0s 4ms/step - loss: 0.5100 - accuracy: 0.7815 - val_loss: 0.4498 - val_accuracy: 0.7922\n",
            "Epoch 4/50\n",
            "22/22 [==============================] - 0s 4ms/step - loss: 0.4705 - accuracy: 0.7800 - val_loss: 0.4295 - val_accuracy: 0.8052\n",
            "Epoch 5/50\n",
            "22/22 [==============================] - 0s 5ms/step - loss: 0.4571 - accuracy: 0.7829 - val_loss: 0.4198 - val_accuracy: 0.8182\n",
            "Epoch 6/50\n",
            "22/22 [==============================] - 0s 5ms/step - loss: 0.4552 - accuracy: 0.7815 - val_loss: 0.4232 - val_accuracy: 0.8182\n",
            "Epoch 7/50\n",
            "22/22 [==============================] - 0s 4ms/step - loss: 0.4412 - accuracy: 0.7959 - val_loss: 0.4269 - val_accuracy: 0.8182\n",
            "Epoch 8/50\n",
            "22/22 [==============================] - 0s 4ms/step - loss: 0.4325 - accuracy: 0.7916 - val_loss: 0.4335 - val_accuracy: 0.8052\n",
            "Epoch 9/50\n",
            "22/22 [==============================] - 0s 4ms/step - loss: 0.4313 - accuracy: 0.8017 - val_loss: 0.4260 - val_accuracy: 0.8182\n",
            "Epoch 10/50\n",
            "22/22 [==============================] - 0s 5ms/step - loss: 0.4244 - accuracy: 0.7945 - val_loss: 0.4360 - val_accuracy: 0.8052\n",
            "Epoch 11/50\n",
            "22/22 [==============================] - 0s 4ms/step - loss: 0.4210 - accuracy: 0.7974 - val_loss: 0.4336 - val_accuracy: 0.8182\n",
            "Epoch 12/50\n",
            "22/22 [==============================] - 0s 5ms/step - loss: 0.4134 - accuracy: 0.8133 - val_loss: 0.4361 - val_accuracy: 0.7922\n",
            "Epoch 13/50\n",
            "22/22 [==============================] - 0s 5ms/step - loss: 0.4034 - accuracy: 0.8177 - val_loss: 0.4514 - val_accuracy: 0.8312\n",
            "Epoch 14/50\n",
            "22/22 [==============================] - 0s 5ms/step - loss: 0.4033 - accuracy: 0.8148 - val_loss: 0.4566 - val_accuracy: 0.8182\n",
            "Epoch 15/50\n",
            "22/22 [==============================] - 0s 4ms/step - loss: 0.4004 - accuracy: 0.8090 - val_loss: 0.4462 - val_accuracy: 0.8182\n",
            "Epoch 16/50\n",
            "22/22 [==============================] - 0s 5ms/step - loss: 0.3863 - accuracy: 0.8220 - val_loss: 0.4572 - val_accuracy: 0.7922\n",
            "Epoch 17/50\n",
            "22/22 [==============================] - 0s 4ms/step - loss: 0.3802 - accuracy: 0.8278 - val_loss: 0.4608 - val_accuracy: 0.8182\n",
            "Epoch 18/50\n",
            "22/22 [==============================] - 0s 4ms/step - loss: 0.3694 - accuracy: 0.8321 - val_loss: 0.4699 - val_accuracy: 0.7922\n",
            "Epoch 19/50\n",
            "22/22 [==============================] - 0s 4ms/step - loss: 0.3662 - accuracy: 0.8365 - val_loss: 0.4642 - val_accuracy: 0.8182\n",
            "Epoch 20/50\n",
            "22/22 [==============================] - 0s 3ms/step - loss: 0.3608 - accuracy: 0.8408 - val_loss: 0.4667 - val_accuracy: 0.7922\n",
            "Epoch 21/50\n",
            "22/22 [==============================] - 0s 4ms/step - loss: 0.3503 - accuracy: 0.8466 - val_loss: 0.4941 - val_accuracy: 0.8052\n",
            "Epoch 22/50\n",
            "22/22 [==============================] - 0s 4ms/step - loss: 0.3393 - accuracy: 0.8495 - val_loss: 0.4805 - val_accuracy: 0.7922\n",
            "Epoch 23/50\n",
            "22/22 [==============================] - 0s 4ms/step - loss: 0.3326 - accuracy: 0.8452 - val_loss: 0.4870 - val_accuracy: 0.7922\n",
            "Epoch 24/50\n",
            "22/22 [==============================] - 0s 4ms/step - loss: 0.3325 - accuracy: 0.8582 - val_loss: 0.4941 - val_accuracy: 0.8182\n",
            "Epoch 25/50\n",
            "22/22 [==============================] - 0s 4ms/step - loss: 0.3190 - accuracy: 0.8654 - val_loss: 0.5063 - val_accuracy: 0.8052\n",
            "Epoch 26/50\n",
            "22/22 [==============================] - 0s 4ms/step - loss: 0.3053 - accuracy: 0.8755 - val_loss: 0.5573 - val_accuracy: 0.7792\n",
            "Epoch 27/50\n",
            "22/22 [==============================] - 0s 3ms/step - loss: 0.3151 - accuracy: 0.8567 - val_loss: 0.5274 - val_accuracy: 0.8182\n",
            "Epoch 28/50\n",
            "22/22 [==============================] - 0s 4ms/step - loss: 0.3209 - accuracy: 0.8611 - val_loss: 0.5978 - val_accuracy: 0.7662\n",
            "Epoch 29/50\n",
            "22/22 [==============================] - 0s 5ms/step - loss: 0.2916 - accuracy: 0.8755 - val_loss: 0.5344 - val_accuracy: 0.7922\n",
            "Epoch 30/50\n",
            "22/22 [==============================] - 0s 4ms/step - loss: 0.2833 - accuracy: 0.8900 - val_loss: 0.5513 - val_accuracy: 0.7922\n",
            "Epoch 31/50\n",
            "22/22 [==============================] - 0s 5ms/step - loss: 0.2712 - accuracy: 0.8973 - val_loss: 0.5475 - val_accuracy: 0.7922\n",
            "Epoch 32/50\n",
            "22/22 [==============================] - 0s 4ms/step - loss: 0.2564 - accuracy: 0.8958 - val_loss: 0.5657 - val_accuracy: 0.7922\n",
            "Epoch 33/50\n",
            "22/22 [==============================] - 0s 4ms/step - loss: 0.2492 - accuracy: 0.9059 - val_loss: 0.5578 - val_accuracy: 0.7662\n",
            "Epoch 34/50\n",
            "22/22 [==============================] - 0s 5ms/step - loss: 0.2552 - accuracy: 0.8987 - val_loss: 0.6075 - val_accuracy: 0.7792\n",
            "Epoch 35/50\n",
            "22/22 [==============================] - 0s 5ms/step - loss: 0.2471 - accuracy: 0.8958 - val_loss: 0.5461 - val_accuracy: 0.7792\n",
            "Epoch 36/50\n",
            "22/22 [==============================] - 0s 6ms/step - loss: 0.2606 - accuracy: 0.8799 - val_loss: 0.5973 - val_accuracy: 0.7662\n",
            "Epoch 37/50\n",
            "22/22 [==============================] - 0s 4ms/step - loss: 0.2462 - accuracy: 0.9045 - val_loss: 0.6423 - val_accuracy: 0.7792\n",
            "Epoch 38/50\n",
            "22/22 [==============================] - 0s 5ms/step - loss: 0.2240 - accuracy: 0.9074 - val_loss: 0.6436 - val_accuracy: 0.7532\n",
            "Epoch 39/50\n",
            "22/22 [==============================] - 0s 4ms/step - loss: 0.2143 - accuracy: 0.9233 - val_loss: 0.6381 - val_accuracy: 0.7922\n",
            "Epoch 40/50\n",
            "22/22 [==============================] - 0s 3ms/step - loss: 0.1971 - accuracy: 0.9262 - val_loss: 0.6133 - val_accuracy: 0.7273\n",
            "Epoch 41/50\n",
            "22/22 [==============================] - 0s 4ms/step - loss: 0.1831 - accuracy: 0.9363 - val_loss: 0.6706 - val_accuracy: 0.7662\n",
            "Epoch 42/50\n",
            "22/22 [==============================] - 0s 4ms/step - loss: 0.1826 - accuracy: 0.9291 - val_loss: 0.6524 - val_accuracy: 0.7532\n",
            "Epoch 43/50\n",
            "22/22 [==============================] - 0s 5ms/step - loss: 0.1752 - accuracy: 0.9320 - val_loss: 0.6809 - val_accuracy: 0.7532\n",
            "Epoch 44/50\n",
            "22/22 [==============================] - 0s 4ms/step - loss: 0.1823 - accuracy: 0.9334 - val_loss: 0.6819 - val_accuracy: 0.7532\n",
            "Epoch 45/50\n",
            "22/22 [==============================] - 0s 5ms/step - loss: 0.1622 - accuracy: 0.9421 - val_loss: 0.7099 - val_accuracy: 0.7662\n",
            "Epoch 46/50\n",
            "22/22 [==============================] - 0s 5ms/step - loss: 0.1750 - accuracy: 0.9378 - val_loss: 0.7158 - val_accuracy: 0.7792\n",
            "Epoch 47/50\n",
            "22/22 [==============================] - 0s 4ms/step - loss: 0.1585 - accuracy: 0.9363 - val_loss: 0.6785 - val_accuracy: 0.7922\n",
            "Epoch 48/50\n",
            "22/22 [==============================] - 0s 4ms/step - loss: 0.1532 - accuracy: 0.9493 - val_loss: 0.7798 - val_accuracy: 0.7922\n",
            "Epoch 49/50\n",
            "22/22 [==============================] - 0s 4ms/step - loss: 0.1492 - accuracy: 0.9436 - val_loss: 0.7361 - val_accuracy: 0.7792\n",
            "Epoch 50/50\n",
            "22/22 [==============================] - 0s 5ms/step - loss: 0.1446 - accuracy: 0.9479 - val_loss: 0.7649 - val_accuracy: 0.7662\n"
          ]
        }
      ]
    },
    {
      "cell_type": "code",
      "source": [
        "result = adam_model.evaluate(x_test,y_test)"
      ],
      "metadata": {
        "colab": {
          "base_uri": "https://localhost:8080/"
        },
        "id": "RZ1Lj3lL3Fbp",
        "outputId": "eacb042c-445e-4adc-b680-68fb4e9362c6"
      },
      "execution_count": null,
      "outputs": [
        {
          "output_type": "stream",
          "name": "stdout",
          "text": [
            "3/3 [==============================] - 0s 3ms/step - loss: 0.7649 - accuracy: 0.7662\n"
          ]
        }
      ]
    },
    {
      "cell_type": "code",
      "source": [
        "# Loss of the model:\n",
        "print(f\"Loss: {result[0]}\")\n",
        "# Accuracy of the model:\n",
        "print(f\"Accuracy: {result[1]*100}\")"
      ],
      "metadata": {
        "colab": {
          "base_uri": "https://localhost:8080/"
        },
        "id": "VusHm0__3Mmj",
        "outputId": "742bf529-6a5c-4888-cd08-b2d14caa0c93"
      },
      "execution_count": null,
      "outputs": [
        {
          "output_type": "stream",
          "name": "stdout",
          "text": [
            "Loss: 0.7649360299110413\n",
            "Accuracy: 76.6233742237091\n"
          ]
        }
      ]
    },
    {
      "cell_type": "markdown",
      "source": [
        "Graphical representaton of decrement of loss with epochs: "
      ],
      "metadata": {
        "id": "Z-2vepd8367x"
      }
    },
    {
      "cell_type": "code",
      "source": [
        "plt.xlabel('Epoch')\n",
        "plt.ylabel('loss')\n",
        "plt.ylim([0, 0.8])\n",
        "plt.legend(loc='lower right')\n",
        "test_loss, test_acc = adam_model.evaluate(x_test, y_test, verbose=2)\n",
        "plt.plot(history.history['loss'], label='loss')"
      ],
      "metadata": {
        "colab": {
          "base_uri": "https://localhost:8080/",
          "height": 335
        },
        "id": "MRh5QjGg3tJK",
        "outputId": "10b7f222-9698-4582-c70e-4dff0d2fd927"
      },
      "execution_count": null,
      "outputs": [
        {
          "output_type": "stream",
          "name": "stderr",
          "text": [
            "WARNING:matplotlib.legend:No handles with labels found to put in legend.\n"
          ]
        },
        {
          "output_type": "stream",
          "name": "stdout",
          "text": [
            "3/3 - 0s - loss: 0.7649 - accuracy: 0.7662 - 29ms/epoch - 10ms/step\n"
          ]
        },
        {
          "output_type": "execute_result",
          "data": {
            "text/plain": [
              "[<matplotlib.lines.Line2D at 0x7f9e0c3fc090>]"
            ]
          },
          "metadata": {},
          "execution_count": 28
        },
        {
          "output_type": "display_data",
          "data": {
            "text/plain": [
              "<Figure size 432x288 with 1 Axes>"
            ],
            "image/png": "[encoded data removed]"
          },
          "metadata": {
            "needs_background": "light"
          }
        }
      ]
    },
    {
      "cell_type": "markdown",
      "source": [
        "Using RMSprop optimizer to create a model:"
      ],
      "metadata": {
        "id": "xa_1UEH24jQo"
      }
    },
    {
      "cell_type": "code",
      "source": [
        "RMSprop_model = models.Sequential()\n",
        "# First hidden layer: \n",
        "RMSprop_model.add(layers.Dense(100,activation=\"relu\"))\n",
        "# First hidden layer: \n",
        "RMSprop_model.add(layers.Dense(50,activation=\"relu\"))\n",
        "# Second hidden layer: \n",
        "RMSprop_model.add(layers.Dense(25,activation=\"relu\"))\n",
        "# Third hidden layer: \n",
        "RMSprop_model.add(layers.Dense(12,activation=\"relu\"))\n",
        "# Fourth hidden layer: \n",
        "RMSprop_model.add(layers.Dense(6,activation=\"relu\"))\n",
        "# Output layer:\n",
        "RMSprop_model.add(layers.Dense(1,activation=\"sigmoid\"))"
      ],
      "metadata": {
        "id": "oDua9D4U4LWe"
      },
      "execution_count": null,
      "outputs": []
    },
    {
      "cell_type": "code",
      "source": [
        "# optimizer = RMSprop\n",
        "RMSprop_model.compile(optimizer=\"RMSprop\",loss=\"binary_crossentropy\",metrics=[\"accuracy\"])"
      ],
      "metadata": {
        "id": "chQy22LT44PD"
      },
      "execution_count": null,
      "outputs": []
    },
    {
      "cell_type": "code",
      "source": [
        "history = RMSprop_model.fit(x_train,y_train,epochs=50,validation_data=(x_test,y_test))"
      ],
      "metadata": {
        "colab": {
          "base_uri": "https://localhost:8080/"
        },
        "id": "_8Q0nD4q5FCB",
        "outputId": "e32484d6-055c-47db-cb1d-c88d95dbb157"
      },
      "execution_count": null,
      "outputs": [
        {
          "output_type": "stream",
          "name": "stdout",
          "text": [
            "Epoch 1/50\n",
            "22/22 [==============================] - 1s 10ms/step - loss: 0.6097 - accuracy: 0.6860 - val_loss: 0.5445 - val_accuracy: 0.7532\n",
            "Epoch 2/50\n",
            "22/22 [==============================] - 0s 4ms/step - loss: 0.5137 - accuracy: 0.7583 - val_loss: 0.4873 - val_accuracy: 0.7792\n",
            "Epoch 3/50\n",
            "22/22 [==============================] - 0s 5ms/step - loss: 0.4830 - accuracy: 0.7728 - val_loss: 0.4543 - val_accuracy: 0.7922\n",
            "Epoch 4/50\n",
            "22/22 [==============================] - 0s 5ms/step - loss: 0.4697 - accuracy: 0.7815 - val_loss: 0.4367 - val_accuracy: 0.7922\n",
            "Epoch 5/50\n",
            "22/22 [==============================] - 0s 4ms/step - loss: 0.4577 - accuracy: 0.7902 - val_loss: 0.4293 - val_accuracy: 0.8052\n",
            "Epoch 6/50\n",
            "22/22 [==============================] - 0s 5ms/step - loss: 0.4483 - accuracy: 0.7873 - val_loss: 0.4157 - val_accuracy: 0.8442\n",
            "Epoch 7/50\n",
            "22/22 [==============================] - 0s 4ms/step - loss: 0.4427 - accuracy: 0.7974 - val_loss: 0.4096 - val_accuracy: 0.8052\n",
            "Epoch 8/50\n",
            "22/22 [==============================] - 0s 3ms/step - loss: 0.4350 - accuracy: 0.7988 - val_loss: 0.4175 - val_accuracy: 0.8052\n",
            "Epoch 9/50\n",
            "22/22 [==============================] - 0s 4ms/step - loss: 0.4261 - accuracy: 0.8003 - val_loss: 0.4070 - val_accuracy: 0.8052\n",
            "Epoch 10/50\n",
            "22/22 [==============================] - 0s 3ms/step - loss: 0.4214 - accuracy: 0.8104 - val_loss: 0.4101 - val_accuracy: 0.8182\n",
            "Epoch 11/50\n",
            "22/22 [==============================] - 0s 3ms/step - loss: 0.4160 - accuracy: 0.7974 - val_loss: 0.4126 - val_accuracy: 0.8312\n",
            "Epoch 12/50\n",
            "22/22 [==============================] - 0s 5ms/step - loss: 0.4124 - accuracy: 0.8162 - val_loss: 0.4144 - val_accuracy: 0.8182\n",
            "Epoch 13/50\n",
            "22/22 [==============================] - 0s 5ms/step - loss: 0.4046 - accuracy: 0.8061 - val_loss: 0.4263 - val_accuracy: 0.8052\n",
            "Epoch 14/50\n",
            "22/22 [==============================] - 0s 4ms/step - loss: 0.3986 - accuracy: 0.8249 - val_loss: 0.4188 - val_accuracy: 0.8182\n",
            "Epoch 15/50\n",
            "22/22 [==============================] - 0s 4ms/step - loss: 0.3893 - accuracy: 0.8162 - val_loss: 0.4267 - val_accuracy: 0.8312\n",
            "Epoch 16/50\n",
            "22/22 [==============================] - 0s 4ms/step - loss: 0.3879 - accuracy: 0.8278 - val_loss: 0.4315 - val_accuracy: 0.7792\n",
            "Epoch 17/50\n",
            "22/22 [==============================] - 0s 4ms/step - loss: 0.3833 - accuracy: 0.8336 - val_loss: 0.4527 - val_accuracy: 0.8052\n",
            "Epoch 18/50\n",
            "22/22 [==============================] - 0s 4ms/step - loss: 0.3792 - accuracy: 0.8292 - val_loss: 0.4327 - val_accuracy: 0.7792\n",
            "Epoch 19/50\n",
            "22/22 [==============================] - 0s 4ms/step - loss: 0.3679 - accuracy: 0.8408 - val_loss: 0.4287 - val_accuracy: 0.8052\n",
            "Epoch 20/50\n",
            "22/22 [==============================] - 0s 3ms/step - loss: 0.3649 - accuracy: 0.8350 - val_loss: 0.4586 - val_accuracy: 0.7922\n",
            "Epoch 21/50\n",
            "22/22 [==============================] - 0s 5ms/step - loss: 0.3598 - accuracy: 0.8437 - val_loss: 0.4362 - val_accuracy: 0.8052\n",
            "Epoch 22/50\n",
            "22/22 [==============================] - 0s 4ms/step - loss: 0.3559 - accuracy: 0.8553 - val_loss: 0.4491 - val_accuracy: 0.8052\n",
            "Epoch 23/50\n",
            "22/22 [==============================] - 0s 4ms/step - loss: 0.3482 - accuracy: 0.8495 - val_loss: 0.4720 - val_accuracy: 0.8052\n",
            "Epoch 24/50\n",
            "22/22 [==============================] - 0s 3ms/step - loss: 0.3391 - accuracy: 0.8611 - val_loss: 0.4654 - val_accuracy: 0.8312\n",
            "Epoch 25/50\n",
            "22/22 [==============================] - 0s 3ms/step - loss: 0.3331 - accuracy: 0.8553 - val_loss: 0.4608 - val_accuracy: 0.8052\n",
            "Epoch 26/50\n",
            "22/22 [==============================] - 0s 4ms/step - loss: 0.3295 - accuracy: 0.8683 - val_loss: 0.4762 - val_accuracy: 0.7792\n",
            "Epoch 27/50\n",
            "22/22 [==============================] - 0s 4ms/step - loss: 0.3253 - accuracy: 0.8799 - val_loss: 0.4652 - val_accuracy: 0.7662\n",
            "Epoch 28/50\n",
            "22/22 [==============================] - 0s 4ms/step - loss: 0.3154 - accuracy: 0.8640 - val_loss: 0.4595 - val_accuracy: 0.7792\n",
            "Epoch 29/50\n",
            "22/22 [==============================] - 0s 3ms/step - loss: 0.3180 - accuracy: 0.8567 - val_loss: 0.4911 - val_accuracy: 0.7662\n",
            "Epoch 30/50\n",
            "22/22 [==============================] - 0s 4ms/step - loss: 0.3049 - accuracy: 0.8712 - val_loss: 0.4964 - val_accuracy: 0.7792\n",
            "Epoch 31/50\n",
            "22/22 [==============================] - 0s 4ms/step - loss: 0.3012 - accuracy: 0.8726 - val_loss: 0.5473 - val_accuracy: 0.7792\n",
            "Epoch 32/50\n",
            "22/22 [==============================] - 0s 3ms/step - loss: 0.2938 - accuracy: 0.8784 - val_loss: 0.5111 - val_accuracy: 0.7922\n",
            "Epoch 33/50\n",
            "22/22 [==============================] - 0s 3ms/step - loss: 0.2835 - accuracy: 0.8712 - val_loss: 0.5628 - val_accuracy: 0.8052\n",
            "Epoch 34/50\n",
            "22/22 [==============================] - 0s 5ms/step - loss: 0.2825 - accuracy: 0.8770 - val_loss: 0.5967 - val_accuracy: 0.7792\n",
            "Epoch 35/50\n",
            "22/22 [==============================] - 0s 4ms/step - loss: 0.2714 - accuracy: 0.8871 - val_loss: 0.5302 - val_accuracy: 0.7532\n",
            "Epoch 36/50\n",
            "22/22 [==============================] - 0s 4ms/step - loss: 0.2715 - accuracy: 0.8828 - val_loss: 0.5918 - val_accuracy: 0.7403\n",
            "Epoch 37/50\n",
            "22/22 [==============================] - 0s 3ms/step - loss: 0.2576 - accuracy: 0.8958 - val_loss: 0.5806 - val_accuracy: 0.7792\n",
            "Epoch 38/50\n",
            "22/22 [==============================] - 0s 4ms/step - loss: 0.2587 - accuracy: 0.8915 - val_loss: 0.6078 - val_accuracy: 0.7662\n",
            "Epoch 39/50\n",
            "22/22 [==============================] - 0s 4ms/step - loss: 0.2453 - accuracy: 0.9030 - val_loss: 0.6481 - val_accuracy: 0.7532\n",
            "Epoch 40/50\n",
            "22/22 [==============================] - 0s 3ms/step - loss: 0.2465 - accuracy: 0.9001 - val_loss: 0.6305 - val_accuracy: 0.7662\n",
            "Epoch 41/50\n",
            "22/22 [==============================] - 0s 3ms/step - loss: 0.2421 - accuracy: 0.9059 - val_loss: 0.6609 - val_accuracy: 0.7532\n",
            "Epoch 42/50\n",
            "22/22 [==============================] - 0s 4ms/step - loss: 0.2317 - accuracy: 0.9146 - val_loss: 0.6590 - val_accuracy: 0.7532\n",
            "Epoch 43/50\n",
            "22/22 [==============================] - 0s 4ms/step - loss: 0.2260 - accuracy: 0.9146 - val_loss: 0.6589 - val_accuracy: 0.7532\n",
            "Epoch 44/50\n",
            "22/22 [==============================] - 0s 3ms/step - loss: 0.2189 - accuracy: 0.9103 - val_loss: 0.6738 - val_accuracy: 0.7403\n",
            "Epoch 45/50\n",
            "22/22 [==============================] - 0s 4ms/step - loss: 0.2156 - accuracy: 0.9233 - val_loss: 0.7373 - val_accuracy: 0.7273\n",
            "Epoch 46/50\n",
            "22/22 [==============================] - 0s 5ms/step - loss: 0.2032 - accuracy: 0.9190 - val_loss: 0.7475 - val_accuracy: 0.7143\n",
            "Epoch 47/50\n",
            "22/22 [==============================] - 0s 3ms/step - loss: 0.2023 - accuracy: 0.9204 - val_loss: 0.7397 - val_accuracy: 0.7143\n",
            "Epoch 48/50\n",
            "22/22 [==============================] - 0s 3ms/step - loss: 0.1969 - accuracy: 0.9204 - val_loss: 0.7753 - val_accuracy: 0.7013\n",
            "Epoch 49/50\n",
            "22/22 [==============================] - 0s 4ms/step - loss: 0.1911 - accuracy: 0.9262 - val_loss: 0.8030 - val_accuracy: 0.7143\n",
            "Epoch 50/50\n",
            "22/22 [==============================] - 0s 4ms/step - loss: 0.1830 - accuracy: 0.9219 - val_loss: 0.8690 - val_accuracy: 0.7013\n"
          ]
        }
      ]
    },
    {
      "cell_type": "code",
      "source": [
        "result = RMSprop_model.evaluate(x_test,y_test)"
      ],
      "metadata": {
        "colab": {
          "base_uri": "https://localhost:8080/"
        },
        "id": "g7mr7uEd5Rp_",
        "outputId": "6e0bb040-b989-4d7d-e0a5-87b0e4327195"
      },
      "execution_count": null,
      "outputs": [
        {
          "output_type": "stream",
          "name": "stdout",
          "text": [
            "3/3 [==============================] - 0s 6ms/step - loss: 0.8690 - accuracy: 0.7013\n"
          ]
        }
      ]
    },
    {
      "cell_type": "code",
      "source": [
        "# Loss of the model:\n",
        "print(f\"Loss: {result[0]*100}\")\n",
        "# Accuracy of the model:\n",
        "print(f\"Accuracy: {result[1]*100}\")"
      ],
      "metadata": {
        "colab": {
          "base_uri": "https://localhost:8080/"
        },
        "id": "kyBep8jN5hgi",
        "outputId": "2fc711c9-5070-4d49-c20e-deb2c0a6c0c8"
      },
      "execution_count": null,
      "outputs": [
        {
          "output_type": "stream",
          "name": "stdout",
          "text": [
            "Loss: 86.89600825309753\n",
            "Accuracy: 70.1298713684082\n"
          ]
        }
      ]
    },
    {
      "cell_type": "markdown",
      "source": [
        "Graphical representaton of decrement of loss with epochs:"
      ],
      "metadata": {
        "id": "_43ZkZS457kw"
      }
    },
    {
      "cell_type": "code",
      "source": [
        "plt.xlabel('Epoch')\n",
        "plt.ylabel('loss')\n",
        "plt.ylim([0.3, 0.8])\n",
        "plt.legend(loc='lower right')\n",
        "test_loss, test_acc = RMSprop_model.evaluate(x_test, y_test, verbose=2)\n",
        "plt.plot(history.history['loss'], label='loss')"
      ],
      "metadata": {
        "colab": {
          "base_uri": "https://localhost:8080/",
          "height": 335
        },
        "id": "HO6o-8aA5uTT",
        "outputId": "f6ba6ba1-5aab-4d6b-ad21-30d8d29f931a"
      },
      "execution_count": null,
      "outputs": [
        {
          "output_type": "stream",
          "name": "stderr",
          "text": [
            "WARNING:matplotlib.legend:No handles with labels found to put in legend.\n"
          ]
        },
        {
          "output_type": "stream",
          "name": "stdout",
          "text": [
            "3/3 - 0s - loss: 0.8690 - accuracy: 0.7013 - 21ms/epoch - 7ms/step\n"
          ]
        },
        {
          "output_type": "execute_result",
          "data": {
            "text/plain": [
              "[<matplotlib.lines.Line2D at 0x7f9e09ce5ed0>]"
            ]
          },
          "metadata": {},
          "execution_count": 34
        },
        {
          "output_type": "display_data",
          "data": {
            "text/plain": [
              "<Figure size 432x288 with 1 Axes>"
            ],
            "image/png": "[encoded data removed]"
          },
          "metadata": {
            "needs_background": "light"
          }
        }
      ]
    },
    {
      "cell_type": "markdown",
      "source": [
        "Using Nadam optimizer to create a model:"
      ],
      "metadata": {
        "id": "4rKZMSog6PFp"
      }
    },
    {
      "cell_type": "code",
      "source": [
        "Nadam_model = models.Sequential()\n",
        "# First hidden layer: \n",
        "Nadam_model.add(layers.Dense(100,activation=\"relu\"))\n",
        "# First hidden layer: \n",
        "Nadam_model.add(layers.Dense(50,activation=\"relu\"))\n",
        "# Second hidden layer: \n",
        "Nadam_model.add(layers.Dense(12,activation=\"relu\"))\n",
        "# Third hidden layer: \n",
        "Nadam_model.add(layers.Dense(6,activation=\"relu\"))\n",
        "# Output layer:\n",
        "Nadam_model.add(layers.Dense(1,activation=\"sigmoid\"))"
      ],
      "metadata": {
        "id": "cvaZwkpb6OWX"
      },
      "execution_count": null,
      "outputs": []
    },
    {
      "cell_type": "code",
      "source": [
        "# optimizer = Nadam\n",
        "Nadam_model.compile(optimizer=\"Nadam\",loss=\"binary_crossentropy\",metrics=[\"accuracy\"])"
      ],
      "metadata": {
        "id": "Ovu4wRt56cQZ"
      },
      "execution_count": null,
      "outputs": []
    },
    {
      "cell_type": "code",
      "source": [
        "history = Nadam_model.fit(x_train,y_train,epochs=50,validation_data=(x_test,y_test))"
      ],
      "metadata": {
        "colab": {
          "base_uri": "https://localhost:8080/"
        },
        "id": "8U092ODs6qvR",
        "outputId": "92a94421-492b-400f-bcf4-e10c6083dc2a"
      },
      "execution_count": null,
      "outputs": [
        {
          "output_type": "stream",
          "name": "stdout",
          "text": [
            "Epoch 1/50\n",
            "22/22 [==============================] - 1s 11ms/step - loss: 0.6469 - accuracy: 0.6599 - val_loss: 0.6078 - val_accuracy: 0.5714\n",
            "Epoch 2/50\n",
            "22/22 [==============================] - 0s 3ms/step - loss: 0.5448 - accuracy: 0.6816 - val_loss: 0.5283 - val_accuracy: 0.6883\n",
            "Epoch 3/50\n",
            "22/22 [==============================] - 0s 5ms/step - loss: 0.5006 - accuracy: 0.7511 - val_loss: 0.4921 - val_accuracy: 0.7922\n",
            "Epoch 4/50\n",
            "22/22 [==============================] - 0s 4ms/step - loss: 0.4825 - accuracy: 0.7844 - val_loss: 0.4677 - val_accuracy: 0.8182\n",
            "Epoch 5/50\n",
            "22/22 [==============================] - 0s 3ms/step - loss: 0.4674 - accuracy: 0.7916 - val_loss: 0.4520 - val_accuracy: 0.8182\n",
            "Epoch 6/50\n",
            "22/22 [==============================] - 0s 3ms/step - loss: 0.4551 - accuracy: 0.7902 - val_loss: 0.4497 - val_accuracy: 0.8182\n",
            "Epoch 7/50\n",
            "22/22 [==============================] - 0s 4ms/step - loss: 0.4465 - accuracy: 0.7887 - val_loss: 0.4347 - val_accuracy: 0.8312\n",
            "Epoch 8/50\n",
            "22/22 [==============================] - 0s 4ms/step - loss: 0.4378 - accuracy: 0.7931 - val_loss: 0.4378 - val_accuracy: 0.8182\n",
            "Epoch 9/50\n",
            "22/22 [==============================] - 0s 5ms/step - loss: 0.4315 - accuracy: 0.7945 - val_loss: 0.4346 - val_accuracy: 0.8182\n",
            "Epoch 10/50\n",
            "22/22 [==============================] - 0s 8ms/step - loss: 0.4233 - accuracy: 0.8032 - val_loss: 0.4303 - val_accuracy: 0.8182\n",
            "Epoch 11/50\n",
            "22/22 [==============================] - 0s 7ms/step - loss: 0.4186 - accuracy: 0.8075 - val_loss: 0.4464 - val_accuracy: 0.8312\n",
            "Epoch 12/50\n",
            "22/22 [==============================] - 0s 8ms/step - loss: 0.4145 - accuracy: 0.8032 - val_loss: 0.4390 - val_accuracy: 0.8182\n",
            "Epoch 13/50\n",
            "22/22 [==============================] - 0s 6ms/step - loss: 0.4057 - accuracy: 0.8090 - val_loss: 0.4373 - val_accuracy: 0.7922\n",
            "Epoch 14/50\n",
            "22/22 [==============================] - 0s 8ms/step - loss: 0.4030 - accuracy: 0.8119 - val_loss: 0.4430 - val_accuracy: 0.8182\n",
            "Epoch 15/50\n",
            "22/22 [==============================] - 0s 6ms/step - loss: 0.3960 - accuracy: 0.8278 - val_loss: 0.4406 - val_accuracy: 0.7922\n",
            "Epoch 16/50\n",
            "22/22 [==============================] - 0s 16ms/step - loss: 0.3931 - accuracy: 0.8234 - val_loss: 0.4429 - val_accuracy: 0.8182\n",
            "Epoch 17/50\n",
            "22/22 [==============================] - 0s 11ms/step - loss: 0.3857 - accuracy: 0.8307 - val_loss: 0.4482 - val_accuracy: 0.8052\n",
            "Epoch 18/50\n",
            "22/22 [==============================] - 0s 8ms/step - loss: 0.3819 - accuracy: 0.8350 - val_loss: 0.4434 - val_accuracy: 0.8052\n",
            "Epoch 19/50\n",
            "22/22 [==============================] - 0s 4ms/step - loss: 0.3759 - accuracy: 0.8321 - val_loss: 0.4592 - val_accuracy: 0.8182\n",
            "Epoch 20/50\n",
            "22/22 [==============================] - 0s 3ms/step - loss: 0.3741 - accuracy: 0.8321 - val_loss: 0.4513 - val_accuracy: 0.8052\n",
            "Epoch 21/50\n",
            "22/22 [==============================] - 0s 3ms/step - loss: 0.3682 - accuracy: 0.8495 - val_loss: 0.4604 - val_accuracy: 0.7922\n",
            "Epoch 22/50\n",
            "22/22 [==============================] - 0s 4ms/step - loss: 0.3627 - accuracy: 0.8379 - val_loss: 0.4686 - val_accuracy: 0.8182\n",
            "Epoch 23/50\n",
            "22/22 [==============================] - 0s 3ms/step - loss: 0.3570 - accuracy: 0.8495 - val_loss: 0.4687 - val_accuracy: 0.8052\n",
            "Epoch 24/50\n",
            "22/22 [==============================] - 0s 4ms/step - loss: 0.3514 - accuracy: 0.8480 - val_loss: 0.4711 - val_accuracy: 0.8182\n",
            "Epoch 25/50\n",
            "22/22 [==============================] - 0s 3ms/step - loss: 0.3473 - accuracy: 0.8553 - val_loss: 0.4703 - val_accuracy: 0.8052\n",
            "Epoch 26/50\n",
            "22/22 [==============================] - 0s 4ms/step - loss: 0.3369 - accuracy: 0.8611 - val_loss: 0.4922 - val_accuracy: 0.8052\n",
            "Epoch 27/50\n",
            "22/22 [==============================] - 0s 3ms/step - loss: 0.3317 - accuracy: 0.8611 - val_loss: 0.5086 - val_accuracy: 0.8052\n",
            "Epoch 28/50\n",
            "22/22 [==============================] - 0s 3ms/step - loss: 0.3301 - accuracy: 0.8567 - val_loss: 0.5060 - val_accuracy: 0.8052\n",
            "Epoch 29/50\n",
            "22/22 [==============================] - 0s 3ms/step - loss: 0.3258 - accuracy: 0.8538 - val_loss: 0.4976 - val_accuracy: 0.8052\n",
            "Epoch 30/50\n",
            "22/22 [==============================] - 0s 5ms/step - loss: 0.3137 - accuracy: 0.8741 - val_loss: 0.5245 - val_accuracy: 0.7532\n",
            "Epoch 31/50\n",
            "22/22 [==============================] - 0s 4ms/step - loss: 0.3157 - accuracy: 0.8712 - val_loss: 0.5185 - val_accuracy: 0.8052\n",
            "Epoch 32/50\n",
            "22/22 [==============================] - 0s 5ms/step - loss: 0.3067 - accuracy: 0.8741 - val_loss: 0.5075 - val_accuracy: 0.8052\n",
            "Epoch 33/50\n",
            "22/22 [==============================] - 0s 4ms/step - loss: 0.2968 - accuracy: 0.8799 - val_loss: 0.5556 - val_accuracy: 0.7792\n",
            "Epoch 34/50\n",
            "22/22 [==============================] - 0s 4ms/step - loss: 0.2987 - accuracy: 0.8741 - val_loss: 0.5293 - val_accuracy: 0.7662\n",
            "Epoch 35/50\n",
            "22/22 [==============================] - 0s 4ms/step - loss: 0.2879 - accuracy: 0.8886 - val_loss: 0.5352 - val_accuracy: 0.7792\n",
            "Epoch 36/50\n",
            "22/22 [==============================] - 0s 3ms/step - loss: 0.2767 - accuracy: 0.8871 - val_loss: 0.5555 - val_accuracy: 0.7662\n",
            "Epoch 37/50\n",
            "22/22 [==============================] - 0s 5ms/step - loss: 0.2769 - accuracy: 0.8929 - val_loss: 0.5653 - val_accuracy: 0.7792\n",
            "Epoch 38/50\n",
            "22/22 [==============================] - 0s 5ms/step - loss: 0.2719 - accuracy: 0.8915 - val_loss: 0.5879 - val_accuracy: 0.7792\n",
            "Epoch 39/50\n",
            "22/22 [==============================] - 0s 4ms/step - loss: 0.2591 - accuracy: 0.9074 - val_loss: 0.5934 - val_accuracy: 0.8052\n",
            "Epoch 40/50\n",
            "22/22 [==============================] - 0s 4ms/step - loss: 0.2599 - accuracy: 0.8973 - val_loss: 0.6245 - val_accuracy: 0.7922\n",
            "Epoch 41/50\n",
            "22/22 [==============================] - 0s 3ms/step - loss: 0.2481 - accuracy: 0.9117 - val_loss: 0.5749 - val_accuracy: 0.7532\n",
            "Epoch 42/50\n",
            "22/22 [==============================] - 0s 4ms/step - loss: 0.2426 - accuracy: 0.9030 - val_loss: 0.6129 - val_accuracy: 0.7662\n",
            "Epoch 43/50\n",
            "22/22 [==============================] - 0s 5ms/step - loss: 0.2418 - accuracy: 0.9247 - val_loss: 0.6387 - val_accuracy: 0.7792\n",
            "Epoch 44/50\n",
            "22/22 [==============================] - 0s 5ms/step - loss: 0.2323 - accuracy: 0.9190 - val_loss: 0.5980 - val_accuracy: 0.7532\n",
            "Epoch 45/50\n",
            "22/22 [==============================] - 0s 3ms/step - loss: 0.2238 - accuracy: 0.9190 - val_loss: 0.6384 - val_accuracy: 0.7532\n",
            "Epoch 46/50\n",
            "22/22 [==============================] - 0s 3ms/step - loss: 0.2213 - accuracy: 0.9233 - val_loss: 0.6626 - val_accuracy: 0.7403\n",
            "Epoch 47/50\n",
            "22/22 [==============================] - 0s 4ms/step - loss: 0.2158 - accuracy: 0.9175 - val_loss: 0.7519 - val_accuracy: 0.7662\n",
            "Epoch 48/50\n",
            "22/22 [==============================] - 0s 3ms/step - loss: 0.2037 - accuracy: 0.9291 - val_loss: 0.7125 - val_accuracy: 0.7662\n",
            "Epoch 49/50\n",
            "22/22 [==============================] - 0s 4ms/step - loss: 0.2010 - accuracy: 0.9363 - val_loss: 0.6667 - val_accuracy: 0.7403\n",
            "Epoch 50/50\n",
            "22/22 [==============================] - 0s 3ms/step - loss: 0.1890 - accuracy: 0.9334 - val_loss: 0.7849 - val_accuracy: 0.7662\n"
          ]
        }
      ]
    },
    {
      "cell_type": "code",
      "source": [
        "result = Nadam_model.evaluate(x_test,y_test)"
      ],
      "metadata": {
        "colab": {
          "base_uri": "https://localhost:8080/"
        },
        "id": "-x9pc6-46ybH",
        "outputId": "e8a7ca3b-5900-45ac-cb38-66e773996a37"
      },
      "execution_count": null,
      "outputs": [
        {
          "output_type": "stream",
          "name": "stdout",
          "text": [
            "3/3 [==============================] - 0s 5ms/step - loss: 0.7849 - accuracy: 0.7662\n"
          ]
        }
      ]
    },
    {
      "cell_type": "code",
      "source": [
        "# Loss of the model:\n",
        "print(f\"Loss: {result[0]*100}\")\n",
        "# Accuracy of the model:\n",
        "print(f\"Accuracy: {result[1]*100}\")"
      ],
      "metadata": {
        "colab": {
          "base_uri": "https://localhost:8080/"
        },
        "id": "z3zpmqsY7HfS",
        "outputId": "575a9767-dc3b-41c7-8a48-488226e4094d"
      },
      "execution_count": null,
      "outputs": [
        {
          "output_type": "stream",
          "name": "stdout",
          "text": [
            "Loss: 78.49100828170776\n",
            "Accuracy: 76.6233742237091\n"
          ]
        }
      ]
    },
    {
      "cell_type": "code",
      "source": [
        "plt.xlabel('Epoch')\n",
        "plt.ylabel('loss')\n",
        "plt.ylim([0.3, 0.8])\n",
        "plt.legend(loc='lower right')\n",
        "test_loss, test_acc = Nadam_model.evaluate(x_test, y_test, verbose=2)\n",
        "plt.plot(history.history['loss'], label='loss')"
      ],
      "metadata": {
        "colab": {
          "base_uri": "https://localhost:8080/",
          "height": 335
        },
        "id": "FUKNoboF7Ksd",
        "outputId": "151541c8-0d54-4b53-ebb6-b344d219d7b4"
      },
      "execution_count": null,
      "outputs": [
        {
          "output_type": "stream",
          "name": "stderr",
          "text": [
            "WARNING:matplotlib.legend:No handles with labels found to put in legend.\n"
          ]
        },
        {
          "output_type": "stream",
          "name": "stdout",
          "text": [
            "3/3 - 0s - loss: 0.7849 - accuracy: 0.7662 - 38ms/epoch - 13ms/step\n"
          ]
        },
        {
          "output_type": "execute_result",
          "data": {
            "text/plain": [
              "[<matplotlib.lines.Line2D at 0x7f9e09834210>]"
            ]
          },
          "metadata": {},
          "execution_count": 66
        },
        {
          "output_type": "display_data",
          "data": {
            "text/plain": [
              "<Figure size 432x288 with 1 Axes>"
            ],
            "image/png": "[encoded data removed]"
          },
          "metadata": {
            "needs_background": "light"
          }
        }
      ]
    },
    {
      "cell_type": "markdown",
      "source": [
        "Using SGD optimizer to create a model:"
      ],
      "metadata": {
        "id": "row92j3I8TgR"
      }
    },
    {
      "cell_type": "code",
      "source": [
        "SGD_model = models.Sequential()\n",
        "# First hidden layer: \n",
        "SGD_model.add(layers.Dense(100,activation=\"relu\"))\n",
        "# First hidden layer: \n",
        "SGD_model.add(layers.Dense(50,activation=\"relu\"))\n",
        "# Second hidden layer: \n",
        "SGD_model.add(layers.Dense(12,activation=\"relu\"))\n",
        "# Third hidden layer: \n",
        "SGD_model.add(layers.Dense(6,activation=\"relu\"))\n",
        "# Output layer:\n",
        "SGD_model.add(layers.Dense(1,activation=\"sigmoid\"))"
      ],
      "metadata": {
        "id": "1ojnNbgS8E4e"
      },
      "execution_count": null,
      "outputs": []
    },
    {
      "cell_type": "code",
      "source": [
        "# optimizer = SGD\n",
        "SGD_model.compile(optimizer=\"SGD\",loss=\"binary_crossentropy\",metrics=[\"accuracy\"])"
      ],
      "metadata": {
        "id": "Ev6vQmty8fxt"
      },
      "execution_count": null,
      "outputs": []
    },
    {
      "cell_type": "code",
      "source": [
        "history = SGD_model.fit(x_train,y_train,epochs=50,validation_data=(x_test,y_test))"
      ],
      "metadata": {
        "colab": {
          "base_uri": "https://localhost:8080/"
        },
        "id": "IfZjTHBz8rEP",
        "outputId": "ad8fea9f-bff3-4f50-8aeb-61f66135b59f"
      },
      "execution_count": null,
      "outputs": [
        {
          "output_type": "stream",
          "name": "stdout",
          "text": [
            "Epoch 1/50\n",
            "22/22 [==============================] - 1s 10ms/step - loss: 0.6914 - accuracy: 0.6599 - val_loss: 0.7144 - val_accuracy: 0.5714\n",
            "Epoch 2/50\n",
            "22/22 [==============================] - 0s 4ms/step - loss: 0.6813 - accuracy: 0.6599 - val_loss: 0.7045 - val_accuracy: 0.5714\n",
            "Epoch 3/50\n",
            "22/22 [==============================] - 0s 4ms/step - loss: 0.6721 - accuracy: 0.6599 - val_loss: 0.6968 - val_accuracy: 0.5714\n",
            "Epoch 4/50\n",
            "22/22 [==============================] - 0s 4ms/step - loss: 0.6636 - accuracy: 0.6599 - val_loss: 0.6897 - val_accuracy: 0.5714\n",
            "Epoch 5/50\n",
            "22/22 [==============================] - 0s 3ms/step - loss: 0.6558 - accuracy: 0.6599 - val_loss: 0.6834 - val_accuracy: 0.5714\n",
            "Epoch 6/50\n",
            "22/22 [==============================] - 0s 4ms/step - loss: 0.6484 - accuracy: 0.6599 - val_loss: 0.6774 - val_accuracy: 0.5714\n",
            "Epoch 7/50\n",
            "22/22 [==============================] - 0s 4ms/step - loss: 0.6413 - accuracy: 0.6599 - val_loss: 0.6716 - val_accuracy: 0.5714\n",
            "Epoch 8/50\n",
            "22/22 [==============================] - 0s 4ms/step - loss: 0.6341 - accuracy: 0.6599 - val_loss: 0.6655 - val_accuracy: 0.5714\n",
            "Epoch 9/50\n",
            "22/22 [==============================] - 0s 4ms/step - loss: 0.6273 - accuracy: 0.6599 - val_loss: 0.6593 - val_accuracy: 0.5714\n",
            "Epoch 10/50\n",
            "22/22 [==============================] - 0s 3ms/step - loss: 0.6205 - accuracy: 0.6599 - val_loss: 0.6531 - val_accuracy: 0.5714\n",
            "Epoch 11/50\n",
            "22/22 [==============================] - 0s 3ms/step - loss: 0.6137 - accuracy: 0.6599 - val_loss: 0.6463 - val_accuracy: 0.5714\n",
            "Epoch 12/50\n",
            "22/22 [==============================] - 0s 3ms/step - loss: 0.6068 - accuracy: 0.6599 - val_loss: 0.6397 - val_accuracy: 0.5714\n",
            "Epoch 13/50\n",
            "22/22 [==============================] - 0s 4ms/step - loss: 0.5996 - accuracy: 0.6599 - val_loss: 0.6327 - val_accuracy: 0.5714\n",
            "Epoch 14/50\n",
            "22/22 [==============================] - 0s 4ms/step - loss: 0.5922 - accuracy: 0.6599 - val_loss: 0.6260 - val_accuracy: 0.5714\n",
            "Epoch 15/50\n",
            "22/22 [==============================] - 0s 3ms/step - loss: 0.5849 - accuracy: 0.6599 - val_loss: 0.6190 - val_accuracy: 0.5714\n",
            "Epoch 16/50\n",
            "22/22 [==============================] - 0s 3ms/step - loss: 0.5781 - accuracy: 0.6599 - val_loss: 0.6118 - val_accuracy: 0.5714\n",
            "Epoch 17/50\n",
            "22/22 [==============================] - 0s 3ms/step - loss: 0.5713 - accuracy: 0.6599 - val_loss: 0.6044 - val_accuracy: 0.5714\n",
            "Epoch 18/50\n",
            "22/22 [==============================] - 0s 3ms/step - loss: 0.5646 - accuracy: 0.6599 - val_loss: 0.5973 - val_accuracy: 0.5714\n",
            "Epoch 19/50\n",
            "22/22 [==============================] - 0s 4ms/step - loss: 0.5584 - accuracy: 0.6599 - val_loss: 0.5905 - val_accuracy: 0.5714\n",
            "Epoch 20/50\n",
            "22/22 [==============================] - 0s 3ms/step - loss: 0.5523 - accuracy: 0.6599 - val_loss: 0.5850 - val_accuracy: 0.5714\n",
            "Epoch 21/50\n",
            "22/22 [==============================] - 0s 3ms/step - loss: 0.5466 - accuracy: 0.6599 - val_loss: 0.5799 - val_accuracy: 0.5714\n",
            "Epoch 22/50\n",
            "22/22 [==============================] - 0s 4ms/step - loss: 0.5412 - accuracy: 0.6599 - val_loss: 0.5753 - val_accuracy: 0.5714\n",
            "Epoch 23/50\n",
            "22/22 [==============================] - 0s 3ms/step - loss: 0.5360 - accuracy: 0.6599 - val_loss: 0.5703 - val_accuracy: 0.5714\n",
            "Epoch 24/50\n",
            "22/22 [==============================] - 0s 3ms/step - loss: 0.5313 - accuracy: 0.6599 - val_loss: 0.5656 - val_accuracy: 0.5714\n",
            "Epoch 25/50\n",
            "22/22 [==============================] - 0s 3ms/step - loss: 0.5270 - accuracy: 0.6599 - val_loss: 0.5608 - val_accuracy: 0.5714\n",
            "Epoch 26/50\n",
            "22/22 [==============================] - 0s 3ms/step - loss: 0.5231 - accuracy: 0.6614 - val_loss: 0.5567 - val_accuracy: 0.5714\n",
            "Epoch 27/50\n",
            "22/22 [==============================] - 0s 4ms/step - loss: 0.5192 - accuracy: 0.6628 - val_loss: 0.5520 - val_accuracy: 0.5714\n",
            "Epoch 28/50\n",
            "22/22 [==============================] - 0s 3ms/step - loss: 0.5157 - accuracy: 0.6671 - val_loss: 0.5477 - val_accuracy: 0.5844\n",
            "Epoch 29/50\n",
            "22/22 [==============================] - 0s 3ms/step - loss: 0.5125 - accuracy: 0.6729 - val_loss: 0.5436 - val_accuracy: 0.5974\n",
            "Epoch 30/50\n",
            "22/22 [==============================] - 0s 3ms/step - loss: 0.5095 - accuracy: 0.6831 - val_loss: 0.5396 - val_accuracy: 0.6234\n",
            "Epoch 31/50\n",
            "22/22 [==============================] - 0s 3ms/step - loss: 0.5063 - accuracy: 0.7120 - val_loss: 0.5360 - val_accuracy: 0.6753\n",
            "Epoch 32/50\n",
            "22/22 [==============================] - 0s 3ms/step - loss: 0.5036 - accuracy: 0.7323 - val_loss: 0.5310 - val_accuracy: 0.7532\n",
            "Epoch 33/50\n",
            "22/22 [==============================] - 0s 4ms/step - loss: 0.5006 - accuracy: 0.7467 - val_loss: 0.5276 - val_accuracy: 0.7532\n",
            "Epoch 34/50\n",
            "22/22 [==============================] - 0s 3ms/step - loss: 0.4979 - accuracy: 0.7656 - val_loss: 0.5242 - val_accuracy: 0.7532\n",
            "Epoch 35/50\n",
            "22/22 [==============================] - 0s 4ms/step - loss: 0.4956 - accuracy: 0.7656 - val_loss: 0.5206 - val_accuracy: 0.7532\n",
            "Epoch 36/50\n",
            "22/22 [==============================] - 0s 3ms/step - loss: 0.4933 - accuracy: 0.7713 - val_loss: 0.5168 - val_accuracy: 0.7532\n",
            "Epoch 37/50\n",
            "22/22 [==============================] - 0s 3ms/step - loss: 0.4909 - accuracy: 0.7742 - val_loss: 0.5134 - val_accuracy: 0.7532\n",
            "Epoch 38/50\n",
            "22/22 [==============================] - 0s 3ms/step - loss: 0.4888 - accuracy: 0.7844 - val_loss: 0.5104 - val_accuracy: 0.7532\n",
            "Epoch 39/50\n",
            "22/22 [==============================] - 0s 3ms/step - loss: 0.4866 - accuracy: 0.7844 - val_loss: 0.5066 - val_accuracy: 0.7662\n",
            "Epoch 40/50\n",
            "22/22 [==============================] - 0s 3ms/step - loss: 0.4849 - accuracy: 0.7858 - val_loss: 0.5040 - val_accuracy: 0.7662\n",
            "Epoch 41/50\n",
            "22/22 [==============================] - 0s 4ms/step - loss: 0.4828 - accuracy: 0.7858 - val_loss: 0.5005 - val_accuracy: 0.7662\n",
            "Epoch 42/50\n",
            "22/22 [==============================] - 0s 3ms/step - loss: 0.4809 - accuracy: 0.7873 - val_loss: 0.4984 - val_accuracy: 0.7532\n",
            "Epoch 43/50\n",
            "22/22 [==============================] - 0s 4ms/step - loss: 0.4790 - accuracy: 0.7916 - val_loss: 0.4959 - val_accuracy: 0.7532\n",
            "Epoch 44/50\n",
            "22/22 [==============================] - 0s 4ms/step - loss: 0.4772 - accuracy: 0.7931 - val_loss: 0.4928 - val_accuracy: 0.7792\n",
            "Epoch 45/50\n",
            "22/22 [==============================] - 0s 3ms/step - loss: 0.4754 - accuracy: 0.7931 - val_loss: 0.4901 - val_accuracy: 0.7792\n",
            "Epoch 46/50\n",
            "22/22 [==============================] - 0s 3ms/step - loss: 0.4738 - accuracy: 0.7974 - val_loss: 0.4883 - val_accuracy: 0.7792\n",
            "Epoch 47/50\n",
            "22/22 [==============================] - 0s 3ms/step - loss: 0.4724 - accuracy: 0.7988 - val_loss: 0.4859 - val_accuracy: 0.7792\n",
            "Epoch 48/50\n",
            "22/22 [==============================] - 0s 3ms/step - loss: 0.4705 - accuracy: 0.7988 - val_loss: 0.4837 - val_accuracy: 0.7792\n",
            "Epoch 49/50\n",
            "22/22 [==============================] - 0s 3ms/step - loss: 0.4689 - accuracy: 0.7988 - val_loss: 0.4822 - val_accuracy: 0.7792\n",
            "Epoch 50/50\n",
            "22/22 [==============================] - 0s 3ms/step - loss: 0.4674 - accuracy: 0.7988 - val_loss: 0.4790 - val_accuracy: 0.7792\n"
          ]
        }
      ]
    },
    {
      "cell_type": "code",
      "source": [
        "result = SGD_model.evaluate(x_test,y_test)"
      ],
      "metadata": {
        "colab": {
          "base_uri": "https://localhost:8080/"
        },
        "id": "tq7HYUg98w5z",
        "outputId": "91888da5-ee30-457f-fe6d-66077b605543"
      },
      "execution_count": null,
      "outputs": [
        {
          "output_type": "stream",
          "name": "stdout",
          "text": [
            "3/3 [==============================] - 0s 7ms/step - loss: 0.4790 - accuracy: 0.7792\n"
          ]
        }
      ]
    },
    {
      "cell_type": "code",
      "source": [
        "# Loss of the model:\n",
        "print(f\"Loss: {result[0]*100}\")\n",
        "# Accuracy of the model:\n",
        "print(f\"Accuracy: {result[1]*100}\")"
      ],
      "metadata": {
        "colab": {
          "base_uri": "https://localhost:8080/"
        },
        "id": "xPtHCS4F89Cn",
        "outputId": "eada71ea-4b63-4717-95d6-f0ae357afeba"
      },
      "execution_count": null,
      "outputs": [
        {
          "output_type": "stream",
          "name": "stdout",
          "text": [
            "Loss: 47.901758551597595\n",
            "Accuracy: 77.92207598686218\n"
          ]
        }
      ]
    },
    {
      "cell_type": "code",
      "source": [
        "plt.xlabel('Epoch')\n",
        "plt.ylabel('loss')\n",
        "plt.ylim([0.3, 0.8])\n",
        "plt.legend(loc='lower right')\n",
        "test_loss, test_acc = SGD_model.evaluate(x_test, y_test, verbose=2)\n",
        "plt.plot(history.history['loss'], label='loss')"
      ],
      "metadata": {
        "colab": {
          "base_uri": "https://localhost:8080/",
          "height": 335
        },
        "id": "bPOp24w69BO8",
        "outputId": "af6538d1-9f5c-4d2e-ef5b-0f6248995765"
      },
      "execution_count": null,
      "outputs": [
        {
          "output_type": "stream",
          "name": "stderr",
          "text": [
            "WARNING:matplotlib.legend:No handles with labels found to put in legend.\n"
          ]
        },
        {
          "output_type": "stream",
          "name": "stdout",
          "text": [
            "3/3 - 0s - loss: 0.4790 - accuracy: 0.7792 - 32ms/epoch - 11ms/step\n"
          ]
        },
        {
          "output_type": "execute_result",
          "data": {
            "text/plain": [
              "[<matplotlib.lines.Line2D at 0x7f9e06f729d0>]"
            ]
          },
          "metadata": {},
          "execution_count": 72
        },
        {
          "output_type": "display_data",
          "data": {
            "text/plain": [
              "<Figure size 432x288 with 1 Axes>"
            ],
            "image/png": "[encoded data removed]"
          },
          "metadata": {
            "needs_background": "light"
          }
        }
      ]
    }
  ]
}